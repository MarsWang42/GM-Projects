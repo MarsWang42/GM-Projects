{
 "cells": [
  {
   "cell_type": "markdown",
   "metadata": {},
   "source": [
    "In this project we are trying to build a SSVM model for part-of- speech tagging in text data.\n",
    "\n",
    "To begin with, let's import only one sentence file and play with it. Our first goal is trying to calculate its loss and gradient."
   ]
  },
  {
   "cell_type": "code",
   "execution_count": 1,
   "metadata": {
    "collapsed": false
   },
   "outputs": [],
   "source": [
    "import os\n",
    "\n",
    "datapath = 'data/';\n",
    "files = os.listdir(datapath)\n",
    "s = 50;   # to load file number 50:\n",
    "fh = open(datapath+files[s],'r');\n",
    "rawlines = fh.readlines();\n",
    "lines = [line.strip('\\n').split(',') for line in rawlines];\n",
    "fh.close();\n",
    "ys = [int(l[1])-1 for l in lines];\n",
    "xs = [[int(l[2])-1,int(l[3]),int(l[4]),int(l[5])-1,int(l[6])-1] for l in lines];"
   ]
  },
  {
   "cell_type": "code",
   "execution_count": 2,
   "metadata": {
    "collapsed": false
   },
   "outputs": [],
   "source": [
    "# Initialize necessary variables\n",
    "import numpy as np\n",
    "import pyGM as gm\n",
    "N = 0\n",
    "nt = 0.01\n",
    "Hamming_Loss = 0\n",
    "Hinge_Loss = 0\n",
    "feature_sizes = [1,2,2,201,201]\n",
    "ThetaF = [.001*np.random.rand(10,feature_sizes[f]) for f in range(len(feature_sizes))]; \n",
    "ThetaP = .001*np.random.rand(10,10);\n",
    "Loss = 1.0 - np.eye(10);  # hamming loss\n",
    "ns = len(ys)\n",
    "# Define random variables for the inference process:\n",
    "Y = [gm.Var(i,10) for i in range(ns)];"
   ]
  },
  {
   "cell_type": "markdown",
   "metadata": {},
   "source": [
    "Then we need to build a pridction model. All parameters have been initiated in the matrixes ThetaF and ThetaP. Also yhat and ypred can be easily found by junctiontree function."
   ]
  },
  {
   "cell_type": "code",
   "execution_count": 3,
   "metadata": {
    "collapsed": false
   },
   "outputs": [],
   "source": [
    "# Build \"prediction model\" using your parameters\n",
    "factors=[gm.Factor([Y[i],Y[i+1]],1.0) for i in range(ns-1)]\n",
    "for f in factors:\n",
    "    f.table = np.exp(ThetaP)\n",
    "for i in range(ns):\n",
    "    for j in range(len(feature_sizes)):\n",
    "        factor = gm.Factor(Y[i], 1)\n",
    "        factor.table = np.exp(ThetaF[j][:,xs[i][j]])\n",
    "        factors.append(factor)"
   ]
  },
  {
   "cell_type": "code",
   "execution_count": 4,
   "metadata": {
    "collapsed": false
   },
   "outputs": [],
   "source": [
    "import pyGM.wmb\n",
    "# so exponentiate the factors before making a model... \n",
    "model_pred = gm.GraphModel(factors);\n",
    "# Copy factors and add extra Hamming factors for loss-augmented model\n",
    "factors_aug = [ f for f in factors ]\n",
    "factors_aug.extend( [gm.Factor([Y[i]], Loss[:,ys[i]]).exp() for i in range(ns)] ); \n",
    "model_aug = gm.GraphModel(factors_aug);\n",
    "\n",
    "order = range(ns);  # eliminate in sequence (Markov chain on y)\n",
    "wt = 1e-4;         # for max elimination in JTree implementation\n",
    "\n",
    "# Now, the most likely configuration of the prediction model (for prediction) is:\n",
    "yhat_pred = gm.wmb.JTree(model_pred,order,wt).argmax();\n",
    "# and the maximizing argument of the loss (for computing the gradient) is\n",
    "yhat_aug = gm.wmb.JTree(model_aug,order,wt).argmax();"
   ]
  },
  {
   "cell_type": "markdown",
   "metadata": {},
   "source": [
    "The next step is calculate the feature function u, which is the score of the permutation of y."
   ]
  },
  {
   "cell_type": "code",
   "execution_count": 5,
   "metadata": {
    "collapsed": false
   },
   "outputs": [],
   "source": [
    "ypred = list(yhat_pred.values())\n",
    "yhat = list(yhat_aug.values())\n",
    "h_loss = Loss[ypred, ys].sum()\n",
    "Hamming_Loss += h_loss"
   ]
  },
  {
   "cell_type": "code",
   "execution_count": 6,
   "metadata": {
    "collapsed": false
   },
   "outputs": [],
   "source": [
    "u_ypred = 0\n",
    "for i in range(ns):\n",
    "    if i != ns-1:\n",
    "        u_ypred += ThetaP[ypred[i]][ypred[i+1]]\n",
    "    for j in range(len(feature_sizes)):\n",
    "        u_ypred += ThetaF[j][ypred[i]][xs[i][j]]"
   ]
  },
  {
   "cell_type": "code",
   "execution_count": 7,
   "metadata": {
    "collapsed": false
   },
   "outputs": [],
   "source": [
    "u_ys = 0\n",
    "for i in range(ns):\n",
    "    if i != ns-1:\n",
    "        u_ys += ThetaP[ys[i]][ys[i+1]]\n",
    "    for j in range(len(feature_sizes)):\n",
    "        u_ys += ThetaF[j][ys[i]][xs[i][j]]"
   ]
  },
  {
   "cell_type": "markdown",
   "metadata": {},
   "source": [
    "The value of feature function is quite reasonable. The value of ys' feature function should be no greater than that of ypred's feature function."
   ]
  },
  {
   "cell_type": "code",
   "execution_count": 8,
   "metadata": {
    "collapsed": false
   },
   "outputs": [
    {
     "data": {
      "text/plain": [
       "0.065173994864121218"
      ]
     },
     "execution_count": 8,
     "metadata": {},
     "output_type": "execute_result"
    }
   ],
   "source": [
    "u_ypred"
   ]
  },
  {
   "cell_type": "code",
   "execution_count": 9,
   "metadata": {
    "collapsed": false
   },
   "outputs": [
    {
     "data": {
      "text/plain": [
       "0.050951620491576248"
      ]
     },
     "execution_count": 9,
     "metadata": {},
     "output_type": "execute_result"
    }
   ],
   "source": [
    "u_ys"
   ]
  },
  {
   "cell_type": "markdown",
   "metadata": {},
   "source": [
    "Last but not least, we can work on the calculation of gradient and update all of the parameters"
   ]
  },
  {
   "cell_type": "code",
   "execution_count": 10,
   "metadata": {
    "collapsed": false
   },
   "outputs": [],
   "source": [
    "from numpy import linalg\n",
    "norms = [linalg.norm(ThetaF[i]) for i in range(len(feature_sizes))]\n",
    "norms.append(linalg.norm(ThetaP))\n",
    "norms = np.asarray(norms)\n",
    "Hinge_Loss += h_loss + u_ypred - u_ys + nt*np.sum(norms*norms)"
   ]
  },
  {
   "cell_type": "code",
   "execution_count": 11,
   "metadata": {
    "collapsed": false
   },
   "outputs": [
    {
     "data": {
      "text/plain": [
       "14.014236576843304"
      ]
     },
     "execution_count": 11,
     "metadata": {},
     "output_type": "execute_result"
    }
   ],
   "source": [
    "Hinge_Loss"
   ]
  },
  {
   "cell_type": "code",
   "execution_count": 12,
   "metadata": {
    "collapsed": false
   },
   "outputs": [],
   "source": [
    "N += ns\n",
    "GradP = np.zeros((10, 10))\n",
    "GradF = [np.zeros((10,feature_sizes[f])) for f in range(len(feature_sizes))];"
   ]
  },
  {
   "cell_type": "code",
   "execution_count": 13,
   "metadata": {
    "collapsed": false
   },
   "outputs": [],
   "source": [
    "for i in range(ns):\n",
    "    for j in range(len(feature_sizes)):\n",
    "        GradF[j][yhat[i],xs[i][j]] += 1\n",
    "        GradF[j][ys[i],xs[i][j]] -= 1\n",
    "    if i<ns-1:\n",
    "        GradP[yhat[i],yhat[i+1]] += 1\n",
    "        GradP[ys[i],ys[i+1]] -= 1"
   ]
  },
  {
   "cell_type": "code",
   "execution_count": 14,
   "metadata": {
    "collapsed": false
   },
   "outputs": [],
   "source": [
    "GradF = [nt*ThetaF[i] + GradF[i] for i in range(len(ThetaF))]\n",
    "GradP = nt*ThetaP + GradP\n",
    "\n",
    "ThetaF = [ThetaF[i] - GradF[i]/ns for i in range(len(ThetaF))]\n",
    "ThetaP = ThetaP - (1/ns)*GradP"
   ]
  },
  {
   "cell_type": "markdown",
   "metadata": {},
   "source": [
    "Done! We succesfully handled one of the sentence files. Now we can make an iteration on all of the sentence files and see how our algorithm performs!\n",
    "\n",
    "Due to the huge number of files, we only go through one iteration just to check the performance of our algorithm."
   ]
  },
  {
   "cell_type": "code",
   "execution_count": 15,
   "metadata": {
    "collapsed": false
   },
   "outputs": [
    {
     "name": "stdout",
     "output_type": "stream",
     "text": [
      "Reading 1000th sentence.\n",
      "Iter: 1 Accuracy: 0.7588936244237627\n",
      "Average Hinge Loss: 7.197256453910526 Average Hamming Loss: 5.544\n",
      "Reading 2000th sentence.\n",
      "Iter: 1 Accuracy: 0.7926091586794463\n",
      "Average Hinge Loss: 6.830015123644105 Average Hamming Loss: 4.8685\n",
      "Reading 3000th sentence.\n",
      "Iter: 1 Accuracy: 0.8080422950447896\n",
      "Average Hinge Loss: 6.675682171007223 Average Hamming Loss: 4.514333333333333\n",
      "Reading 4000th sentence.\n",
      "Iter: 1 Accuracy: 0.8176956217237208\n",
      "Average Hinge Loss: 6.604635788033613 Average Hamming Loss: 4.295\n",
      "Reading 5000th sentence.\n",
      "Iter: 1 Accuracy: 0.8246810102263744\n",
      "Average Hinge Loss: 6.542542413335591 Average Hamming Loss: 4.1248\n",
      "Reading 6000th sentence.\n",
      "Iter: 1 Accuracy: 0.8296297874455831\n",
      "Average Hinge Loss: 6.510535461860795 Average Hamming Loss: 3.9983333333333335\n"
     ]
    }
   ],
   "source": [
    "import pyGM as gm\n",
    "import pyGM.wmb\n",
    "import numpy as np\n",
    "import os\n",
    "from numpy import linalg\n",
    "\n",
    "datapath = 'data/';\n",
    "files = os.listdir(datapath)\n",
    "feature_sizes = [1,2,2,201,201]\n",
    "ThetaF = [.001*np.random.rand(10,feature_sizes[f]) for f in range(len(feature_sizes))]; \n",
    "ThetaP = .001*np.random.rand(10,10);\n",
    "Loss = 1.0 - np.eye(10);  # hamming loss\n",
    "step = 0.1\n",
    "reg = 0.01\n",
    "num_iter = 1\n",
    "HinLs = []\n",
    "HamLs = []\n",
    "# step size, etc.\n",
    "for iter in range(num_iter):\n",
    "    num = 0\n",
    "    correct = 0\n",
    "    N = 0\n",
    "    Hamming_Loss = 0\n",
    "    Hinge_Loss = 0\n",
    "    for s in np.random.permutation(len(files)-1):\n",
    "        num+=1\n",
    "        if(num%100 == 0):\n",
    "            accuracy = 1-Hamming_Loss/N\n",
    "            avg_HinL = Hinge_Loss/num\n",
    "            avg_HamL = Hamming_Loss/num\n",
    "            HinLs.append(avg_HinL)\n",
    "            HamLs.append(avg_HamL)\n",
    "        if(num%1000 == 0):\n",
    "            print('Reading '+str(num)+'th sentence.')\n",
    "            print(\"Iter: {} Accuracy: {}\".format(iter+1, accuracy))\n",
    "            print(\"Average Hinge Loss: {} Average Hamming Loss: {}\".format(avg_HinL, avg_HamL))\n",
    "        # Load data ys,xs\n",
    "        fh = open(datapath+files[s+1],'r');\n",
    "        rawlines = fh.readlines();\n",
    "        lines = [line.strip('\\n').split(',') for line in rawlines];\n",
    "        fh.close();\n",
    "        ys = [int(l[1])-1 for l in lines];\n",
    "        xs = [[int(l[2])-1,int(l[3]),int(l[4]),int(l[5])-1,int(l[6])-1] for l in lines];\n",
    "        ns = len(ys)\n",
    "        N += ns\n",
    "        # Define random variables for the inference process:\n",
    "        Y = [gm.Var(i,10) for i in range(ns)];\n",
    "\n",
    "        # Build \"prediction model\" using your parameters\n",
    "        factors=[gm.Factor([Y[i],Y[i+1]],1.0) for i in range(ns-1)]\n",
    "        for f in factors:\n",
    "            f.table = np.exp(ThetaP)\n",
    "        for i in range(ns):\n",
    "            for j in range(len(feature_sizes)):\n",
    "                factor = gm.Factor(Y[i], 1)\n",
    "                factor.table = np.exp(ThetaF[j][:,xs[i][j]])\n",
    "                factors.append(factor)\n",
    "        \n",
    "        # don't forget pyGM expects models to be products of factors, \n",
    "        # so exponentiate the factors before making a model... \n",
    "        model_pred = gm.GraphModel(factors);\n",
    "        # Copy factors and add extra Hamming factors for loss-augmented model\n",
    "        factors_aug = [ f for f in factors ]\n",
    "        factors_aug.extend( [gm.Factor([Y[i]], Loss[:,ys[i]]).exp() for i in range(ns)] ); \n",
    "        model_aug = gm.GraphModel(factors_aug);\n",
    "\n",
    "        order = range(ns);  # eliminate in sequence (Markov chain on y)\n",
    "        wt = 1e-4;         # for max elimination in JTree implementation\n",
    "\n",
    "        # Now, the most likely configuration of the prediction model (for prediction) is:\n",
    "        yhat_pred = gm.wmb.JTree(model_pred,order,wt).argmax();\n",
    "        # and the maximizing argument of the loss (for computing the gradient) is\n",
    "        yhat_aug = gm.wmb.JTree(model_aug,order,wt).argmax();\n",
    "\n",
    "        # use yhat_pred & ys to keep a running estimate of your prediction accuracy & printit\n",
    "        ypred = list(yhat_pred.values())\n",
    "        yhat = list(yhat_aug.values())\n",
    "        h_loss = Loss[ypred, ys].sum()\n",
    "        Hamming_Loss += h_loss\n",
    "        # calculating feature function\n",
    "        u_ypred = 0\n",
    "        for i in range(ns):\n",
    "            if i != ns-1:\n",
    "                u_ypred += ThetaP[ypred[i]][ypred[i+1]]\n",
    "            for j in range(len(feature_sizes)):\n",
    "                u_ypred += ThetaF[j][ypred[i]][xs[i][j]]\n",
    "        u_ys = 0\n",
    "        for i in range(ns):\n",
    "            if i != ns-1:\n",
    "                u_ys += ThetaP[ys[i]][ys[i+1]]\n",
    "            for j in range(len(feature_sizes)):\n",
    "                u_ys += ThetaF[j][ys[i]][xs[i][j]]\n",
    "                \n",
    "        # calculating Hinge Loss\n",
    "        norms = [linalg.norm(ThetaF[i]) for i in range(len(feature_sizes))]\n",
    "        norms.append(linalg.norm(ThetaP))\n",
    "        norms = np.asarray(norms)\n",
    "        Hinge_Loss += Loss[ypred, ys].sum() + u_ypred - u_ys + reg*np.dot(norms, norms)\n",
    "        # how often etc is up to you\n",
    "        # use yhat_aug & ys to update your parameters theta in the negative gradient direction\n",
    "        GradP = np.zeros((10, 10))\n",
    "        GradF = [np.zeros((10,feature_sizes[f])) for f in range(len(feature_sizes))];\n",
    "        for i in range(ns):\n",
    "            for j in range(len(feature_sizes)):\n",
    "                GradF[j][yhat[i],xs[i][j]] += 1\n",
    "                GradF[j][ys[i],xs[i][j]] -= 1\n",
    "            if i<ns-1:\n",
    "                GradP[yhat[i],yhat[i+1]] += 1\n",
    "                GradP[ys[i],ys[i+1]] -= 1\n",
    "        GradF = [reg*ThetaF[i] + GradF[i] for i in range(len(ThetaF))]\n",
    "        GradP = reg*ThetaP + GradP\n",
    "        ThetaF = [ThetaF[i] - step*GradF[i]/ns for i in range(len(ThetaF))]\n",
    "        ThetaP = ThetaP - step*(1/ns)*GradP"
   ]
  },
  {
   "cell_type": "markdown",
   "metadata": {},
   "source": [
    "Last but not least, show the beautiful graph of Hinge loss and Hamming loss we've got during the SGD! We can see it is monotonically decreasing :)"
   ]
  },
  {
   "cell_type": "code",
   "execution_count": 16,
   "metadata": {
    "collapsed": false
   },
   "outputs": [
    {
     "data": {
      "image/png": "[encoded data removed]",
      "text/plain": [
       "<matplotlib.figure.Figure at 0x10becc438>"
      ]
     },
     "metadata": {},
     "output_type": "display_data"
    }
   ],
   "source": [
    "import numpy as np\n",
    "import matplotlib.pyplot as plt\n",
    "\n",
    "# a magic to inline matplot\n",
    "%matplotlib inline\n",
    "plt.rcParams['figure.figsize'] = (10.0, 8.0) # set default size of plots\n",
    "plt.rcParams['image.interpolation'] = 'nearest'\n",
    "plt.rcParams['image.cmap'] = 'gray'\n",
    "\n",
    "plt.plot([i for i in range(len(HinLs))], HinLs)\n",
    "plt.plot([i for i in range(len(HamLs))], HamLs)\n",
    "plt.title('Hinge Loss & Hamming Loss')\n",
    "plt.show()"
   ]
  },
  {
   "cell_type": "code",
   "execution_count": 17,
   "metadata": {
    "collapsed": true
   },
   "outputs": [],
   "source": [
    "import numpy as np\n",
    "A = np.array([[1/3, 2/3,0,0,0,0,0], [1/4, 3/4,0,0,0,0,0], [0,0,0,2/3,1/3,0,0], [0,0,1,0,0,0,0], [0,0,1,0,0,0,0],\n",
    "             [1/6,0,1/6,1/6,0,1/4,1/4], [0,0,0,0,0,0,1]])"
   ]
  },
  {
   "cell_type": "code",
   "execution_count": 26,
   "metadata": {
    "collapsed": false
   },
   "outputs": [
    {
     "name": "stdout",
     "output_type": "stream",
     "text": [
      "[[  2.72727273e-001   7.27272727e-001   0.00000000e+000   0.00000000e+000\n",
      "    0.00000000e+000   0.00000000e+000   0.00000000e+000]\n",
      " [  2.72727273e-001   7.27272727e-001   0.00000000e+000   0.00000000e+000\n",
      "    0.00000000e+000   0.00000000e+000   0.00000000e+000]\n",
      " [  0.00000000e+000   0.00000000e+000   1.00000000e+000   0.00000000e+000\n",
      "    0.00000000e+000   0.00000000e+000   0.00000000e+000]\n",
      " [  0.00000000e+000   0.00000000e+000   0.00000000e+000   6.66666667e-001\n",
      "    3.33333333e-001   0.00000000e+000   0.00000000e+000]\n",
      " [  0.00000000e+000   0.00000000e+000   0.00000000e+000   6.66666667e-001\n",
      "    3.33333333e-001   0.00000000e+000   0.00000000e+000]\n",
      " [  6.06060606e-002   1.61616162e-001   2.22222222e-001   1.48148148e-001\n",
      "    7.40740741e-002   7.45834073e-155   3.33333333e-001]\n",
      " [  0.00000000e+000   0.00000000e+000   0.00000000e+000   0.00000000e+000\n",
      "    0.00000000e+000   0.00000000e+000   1.00000000e+000]]\n"
     ]
    }
   ],
   "source": [
    "A = A.dot(A)\n",
    "print (A)"
   ]
  },
  {
   "cell_type": "code",
   "execution_count": 29,
   "metadata": {
    "collapsed": false
   },
   "outputs": [
    {
     "name": "stdout",
     "output_type": "stream",
     "text": [
      "[[  2.72727273e-001   7.27272727e-001   0.00000000e+000   0.00000000e+000\n",
      "    0.00000000e+000   0.00000000e+000   0.00000000e+000]\n",
      " [  2.72727273e-001   7.27272727e-001   0.00000000e+000   0.00000000e+000\n",
      "    0.00000000e+000   0.00000000e+000   0.00000000e+000]\n",
      " [  0.00000000e+000   0.00000000e+000   0.00000000e+000   6.66666667e-001\n",
      "    3.33333333e-001   0.00000000e+000   0.00000000e+000]\n",
      " [  0.00000000e+000   0.00000000e+000   1.00000000e+000   0.00000000e+000\n",
      "    0.00000000e+000   0.00000000e+000   0.00000000e+000]\n",
      " [  0.00000000e+000   0.00000000e+000   1.00000000e+000   0.00000000e+000\n",
      "    0.00000000e+000   0.00000000e+000   0.00000000e+000]\n",
      " [  6.06060606e-002   1.61616162e-001   2.22222222e-001   1.48148148e-001\n",
      "    7.40740741e-002   1.16536574e-156   3.33333333e-001]\n",
      " [  0.00000000e+000   0.00000000e+000   0.00000000e+000   0.00000000e+000\n",
      "    0.00000000e+000   0.00000000e+000   1.00000000e+000]]\n"
     ]
    }
   ],
   "source": [
    "A = A.dot(np.array([[1/3, 2/3,0,0,0,0,0], [1/4, 3/4,0,0,0,0,0], [0,0,0,2/3,1/3,0,0], [0,0,1,0,0,0,0], [0,0,1,0,0,0,0],\n",
    "             [1/6,0,1/6,1/6,0,1/4,1/4], [0,0,0,0,0,0,1]]))\n",
    "print (A)"
   ]
  },
  {
   "cell_type": "code",
   "execution_count": null,
   "metadata": {
    "collapsed": true
   },
   "outputs": [],
   "source": []
  }
 ],
 "metadata": {
  "kernelspec": {
   "display_name": "Python 3",
   "language": "python",
   "name": "python3"
  },
  "language_info": {
   "codemirror_mode": {
    "name": "ipython",
    "version": 3
   },
   "file_extension": ".py",
   "mimetype": "text/x-python",
   "name": "python",
   "nbconvert_exporter": "python",
   "pygments_lexer": "ipython3",
   "version": "3.5.1"
  }
 },
 "nbformat": 4,
 "nbformat_minor": 0
}
